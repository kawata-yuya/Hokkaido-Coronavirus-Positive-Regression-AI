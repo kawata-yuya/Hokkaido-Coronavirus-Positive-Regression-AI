{
  "nbformat": 4,
  "nbformat_minor": 0,
  "metadata": {
    "colab": {
      "name": "main colab.ipynb",
      "provenance": [],
      "collapsed_sections": [],
      "authorship_tag": "ABX9TyOeCvPS3dKQaUmYnsv4TkiQ",
      "include_colab_link": true
    },
    "kernelspec": {
      "name": "python3",
      "display_name": "Python 3"
    },
    "language_info": {
      "name": "python"
    }
  },
  "cells": [
    {
      "cell_type": "markdown",
      "metadata": {
        "id": "view-in-github",
        "colab_type": "text"
      },
      "source": [
        "<a href=\"https://colab.research.google.com/github/kawata-yuya/Hokkaido-Coronavirus-Positive-Regression-AI/blob/master/main_colab.ipynb\" target=\"_parent\"><img src=\"https://colab.research.google.com/assets/colab-badge.svg\" alt=\"Open In Colab\"/></a>"
      ]
    },
    {
      "cell_type": "code",
      "metadata": {
        "colab": {
          "base_uri": "https://localhost:8080/"
        },
        "id": "8jS5zDuXryDY",
        "outputId": "9e5a578f-f795-45ce-9c38-ae90d85cbd9f"
      },
      "source": [
        "!git clone https://github.com/kawata-yuya/Hokkaido-Coronavirus-Positive-Regression-AI\n",
        "%cd 'Hokkaido-Coronavirus-Positive-Regression-AI'"
      ],
      "execution_count": null,
      "outputs": [
        {
          "output_type": "stream",
          "text": [
            "Cloning into 'Hokkaido-Coronavirus-Positive-Regression-AI'...\n",
            "remote: Enumerating objects: 21, done.\u001b[K\n",
            "remote: Counting objects:   4% (1/21)\u001b[K\rremote: Counting objects:   9% (2/21)\u001b[K\rremote: Counting objects:  14% (3/21)\u001b[K\rremote: Counting objects:  19% (4/21)\u001b[K\rremote: Counting objects:  23% (5/21)\u001b[K\rremote: Counting objects:  28% (6/21)\u001b[K\rremote: Counting objects:  33% (7/21)\u001b[K\rremote: Counting objects:  38% (8/21)\u001b[K\rremote: Counting objects:  42% (9/21)\u001b[K\rremote: Counting objects:  47% (10/21)\u001b[K\rremote: Counting objects:  52% (11/21)\u001b[K\rremote: Counting objects:  57% (12/21)\u001b[K\rremote: Counting objects:  61% (13/21)\u001b[K\rremote: Counting objects:  66% (14/21)\u001b[K\rremote: Counting objects:  71% (15/21)\u001b[K\rremote: Counting objects:  76% (16/21)\u001b[K\rremote: Counting objects:  80% (17/21)\u001b[K\rremote: Counting objects:  85% (18/21)\u001b[K\rremote: Counting objects:  90% (19/21)\u001b[K\rremote: Counting objects:  95% (20/21)\u001b[K\rremote: Counting objects: 100% (21/21)\u001b[K\rremote: Counting objects: 100% (21/21), done.\u001b[K\n",
            "remote: Compressing objects: 100% (16/16), done.\u001b[K\n",
            "remote: Total 21 (delta 4), reused 16 (delta 3), pack-reused 0\u001b[K\n",
            "Unpacking objects: 100% (21/21), done.\n",
            "/content/Hokkaido-Coronavirus-Positive-Regression-AI/Hokkaido-Coronavirus-Positive-Regression-AI\n"
          ],
          "name": "stdout"
        }
      ]
    },
    {
      "cell_type": "code",
      "metadata": {
        "id": "7jGRrv9xsPn9",
        "cellView": "form"
      },
      "source": [
        "#@title Imports\n",
        "import numpy as np\n",
        "import tensorflow as tf\n",
        "import pandas as pd\n",
        "import matplotlib.dates as mdates\n",
        "import matplotlib.pyplot as plt\n",
        "\n",
        "from tensorflow import keras\n",
        "from tensorflow.keras import layers\n",
        "\n",
        "from datetime import date, datetime, timedelta"
      ],
      "execution_count": null,
      "outputs": []
    },
    {
      "cell_type": "code",
      "metadata": {
        "id": "VyRmepaGsNTJ",
        "cellView": "form"
      },
      "source": [
        "#@title Define Functions\n",
        "\n",
        "class CoronaPredictionNormalScale:\n",
        "    def __init__(self):\n",
        "        self.mean = None\n",
        "        self.std = None\n",
        "\n",
        "    def fit(self, data):\n",
        "        self.mean = np.mean(data, axis=0)\n",
        "        self.std = np.std(data, axis=0)\n",
        "\n",
        "        self.mean[0], self.std[0] = 4.0, 2.0\n",
        "\n",
        "    def transform(self, data):\n",
        "        return (data - self.mean) / self.std\n",
        "\n",
        "    def dump(self, file_name):\n",
        "        np.savez(file_name, mean=self.mean, std=self.std)\n",
        "\n",
        "    def load(self, file_name):\n",
        "        data = np.load(file_name)\n",
        "\n",
        "        self.mean = data['mean']\n",
        "        self.std = data['std']\n",
        "\n",
        "\n",
        "def create_model():\n",
        "    model = keras.Sequential([\n",
        "        layers.Dense(512, activation='relu', input_shape=(15, )),\n",
        "        layers.Dense(256, activation='relu'),\n",
        "        layers.Dense(128, activation='relu'),\n",
        "        layers.Dense(32, activation='relu'),\n",
        "        layers.Dense(1)\n",
        "    ])\n",
        "\n",
        "    model.compile(\n",
        "        loss='mse',\n",
        "        optimizer=keras.optimizers.Adam(0.0001, epsilon=1e-2),\n",
        "        metrics=['mae', 'mse'],\n",
        "    )\n",
        "\n",
        "    return model\n",
        "\n",
        "\n",
        "def plot(x, y):\n",
        "    fig = plt.figure()\n",
        "    ax = fig.add_subplot(111)\n",
        "\n",
        "    ax.plot(x, y, label='AI prediction result')\n",
        "\n",
        "    daysFmt = mdates.DateFormatter('%y-%m-%d')\n",
        "    ax.xaxis.set_major_locator(mdates.AutoDateLocator(maxticks=8))\n",
        "    ax.xaxis.set_major_formatter(daysFmt)\n",
        "\n",
        "    plt.title('Future infected person forecast')\n",
        "    plt.xlabel('from now on')\n",
        "    plt.ylabel('infected people')\n",
        "    plt.legend()\n",
        "    plt.grid()\n",
        "    plt.show()\n",
        "\n",
        "def weekday(d_str):\n",
        "    d = datetime.strptime(d_str, '%Y-%m-%d')\n",
        "    return (d.weekday() + 1) % 7 + 1"
      ],
      "execution_count": null,
      "outputs": []
    },
    {
      "cell_type": "code",
      "metadata": {
        "colab": {
          "base_uri": "https://localhost:8080/",
          "height": 640
        },
        "id": "zijkUTtaslwx",
        "cellView": "form",
        "outputId": "c05c9b78-488a-4918-99f0-56c71b7b30df"
      },
      "source": [
        "#@title Run\n",
        "\n",
        "#@markdown 予想する日の日付\n",
        "expected_day = '2021-07-21'     #@param {type:'date'}\n",
        "weekday_num = weekday(expected_day)\n",
        "#@markdown 予想する日の14日前の北海道のコロナウイルス感染者数\n",
        "data_14 = 34          #@param {type:'integer'}\n",
        "#@markdown 予想する日の13日前の北海道のコロナウイルス感染者数\n",
        "data_13 =           67#@param {type:'integer'}\n",
        "#@markdown 予想する日の12日前の北海道のコロナウイルス感染者数\n",
        "data_12 =           62#@param {type:'integer'}\n",
        "#@markdown 予想する日の11日前の北海道のコロナウイルス感染者数\n",
        "data_11 =           50#@param {type:'integer'}\n",
        "#@markdown 予想する日の10日前の北海道のコロナウイルス感染者数\n",
        "data_10 =           64#@param {type:'integer'}\n",
        "#@markdown 予想する日の09日前の北海道のコロナウイルス感染者数\n",
        "data_09 =           56#@param {type:'integer'}\n",
        "#@markdown 予想する日の08日前の北海道のコロナウイルス感染者数\n",
        "data_08 =           47#@param {type:'integer'}\n",
        "#@markdown 予想する日の07日前の北海道のコロナウイルス感染者数\n",
        "data_07 =           60#@param {type:'integer'}\n",
        "#@markdown 予想する日の06日前の北海道のコロナウイルス感染者数\n",
        "data_06 =           75#@param {type:'integer'}\n",
        "#@markdown 予想する日の05日前の北海道のコロナウイルス感染者数\n",
        "data_05 =           84#@param {type:'integer'}\n",
        "#@markdown 予想する日の04日前の北海道のコロナウイルス感染者数\n",
        "data_04 =           73#@param {type:'integer'}\n",
        "#@markdown 予想する日の03日前の北海道のコロナウイルス感染者数\n",
        "data_03 = 111          #@param {type:'integer'}\n",
        "#@markdown 予想する日の02日前の北海道のコロナウイルス感染者数\n",
        "data_02 = 107          #@param {type:'integer'}\n",
        "#@markdown 予想する日の01日前の北海道のコロナウイルス感染者数\n",
        "data_01 = 104          #@param {type:'integer'}\n",
        "\n",
        "data = [[\n",
        "        weekday_num,\n",
        "        data_14,\n",
        "        data_13,\n",
        "        data_12,\n",
        "        data_11,\n",
        "        data_10,\n",
        "        data_09,\n",
        "        data_08,\n",
        "        data_07,\n",
        "        data_06,\n",
        "        data_05,\n",
        "        data_04,\n",
        "        data_03,\n",
        "        data_02,\n",
        "        data_01,\n",
        "]]\n",
        "\n",
        "# 今後の感染者数を予想しグラフに表示をするか。\n",
        "graph = True        # or False\n",
        "# 感染者数の予想する日数を設定\n",
        "compute_range = 30\n",
        "\n",
        "\n",
        "# 正規化するためのクラスのインスタンスを作成\n",
        "cpns = CoronaPredictionNormalScale()\n",
        "# 正規化するための平均値と標準偏差をロード\n",
        "cpns.load('./model_data/CoronaPredictionNormalScale.npz')\n",
        "\n",
        "# 重回帰分析に必要なニューるネットワークをインスタンス化\n",
        "model = create_model()\n",
        "# 学習済みの重回帰モデルの重みをロード\n",
        "model.load_weights(\n",
        "    './model_data/corona_ai_checkpoints/corona_ai_checkpoint'\n",
        ")\n",
        "\n",
        "# ニューラルネットワークの入力層、隠れ層、出力層の次元などの情報を表示\n",
        "\"\"\"\n",
        "Model: \"sequential\"\n",
        "_________________________________________________________________\n",
        "Layer (type)                 Output Shape              Param #\n",
        "=================================================================\n",
        "dense (Dense)                (None, 512)               8192\n",
        "_________________________________________________________________\n",
        "dense_1 (Dense)              (None, 256)               131328\n",
        "_________________________________________________________________\n",
        "dense_2 (Dense)              (None, 128)               32896\n",
        "_________________________________________________________________\n",
        "dense_3 (Dense)              (None, 32)                4128\n",
        "_________________________________________________________________\n",
        "dense_4 (Dense)              (None, 1)                 33\n",
        "=================================================================\n",
        "Total params: 176,577\n",
        "Trainable params: 176,577\n",
        "Non-trainable params: 0\n",
        "_________________________________________________________________\n",
        "\"\"\"\n",
        "model.summary()\n",
        "\n",
        "# 入力された計15個のパラメータから、次の北海道のコロナ感染者数を予測\n",
        "r = model.predict(cpns.transform(data))[0, 0]\n",
        "# 計算結果を表示\n",
        "print('{}の北海道の感染者予測: {}[人]'.format(expected_day, r))\n",
        "\n",
        "if graph:\n",
        "    y = []\n",
        "    for i in range(1, compute_range+1):\n",
        "        expected = model.predict(cpns.transform(data))[0, 0]\n",
        "        y.append(expected)\n",
        "        data = [[(data[0][0]) % 7+1] + data[0][2:] + [expected]]\n",
        "\n",
        "    x = pd.date_range(expected_day, periods=compute_range, freq='d')\n",
        "    plot(x, y)"
      ],
      "execution_count": 25,
      "outputs": [
        {
          "output_type": "stream",
          "text": [
            "Model: \"sequential_10\"\n",
            "_________________________________________________________________\n",
            "Layer (type)                 Output Shape              Param #   \n",
            "=================================================================\n",
            "dense_50 (Dense)             (None, 512)               8192      \n",
            "_________________________________________________________________\n",
            "dense_51 (Dense)             (None, 256)               131328    \n",
            "_________________________________________________________________\n",
            "dense_52 (Dense)             (None, 128)               32896     \n",
            "_________________________________________________________________\n",
            "dense_53 (Dense)             (None, 32)                4128      \n",
            "_________________________________________________________________\n",
            "dense_54 (Dense)             (None, 1)                 33        \n",
            "=================================================================\n",
            "Total params: 176,577\n",
            "Trainable params: 176,577\n",
            "Non-trainable params: 0\n",
            "_________________________________________________________________\n",
            "2021-07-21の北海道の感染者予測: 5818.5302734375[人]\n"
          ],
          "name": "stdout"
        },
        {
          "output_type": "display_data",
          "data": {
            "image/png": "[encoded data removed]",
            "text/plain": [
              "<Figure size 432x288 with 1 Axes>"
            ]
          },
          "metadata": {
            "tags": [],
            "needs_background": "light"
          }
        }
      ]
    }
  ]
}